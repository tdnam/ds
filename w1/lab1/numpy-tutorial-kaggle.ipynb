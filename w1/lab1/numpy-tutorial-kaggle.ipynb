{
 "cells": [
  {
   "cell_type": "markdown",
   "metadata": {
    "_uuid": "bf71945ed61b50db90d6ee39a1fe141fdcfa04fa",
    "button": false,
    "new_sheet": false,
    "run_control": {
     "read_only": false
    }
   },
   "source": [
    "1. [ndarray](#1)\n",
    "2. [Create a specific array](#2)\n",
    "3. [Shape and operation](#3)\n",
    "4. [Index](#4)\n",
    "5. [Mathematics](#5)\n",
    "6. [Matrix](#6)\n",
    "7. [Random Number](#7)\n",
    "8. [Conclusion](#8)\n",
    "9. [Reference](#9)"
   ]
  },
  {
   "cell_type": "markdown",
   "metadata": {},
   "source": [
    "## ndarray<a id=\"2\"></a>\n",
    "<mark>[Return Contents](#0)"
   ]
  },
  {
   "cell_type": "code",
   "execution_count": 1,
   "metadata": {
    "_uuid": "ff2674e2b424b9119168092dd12365e68ad9d883",
    "button": false,
    "new_sheet": false,
    "run_control": {
     "read_only": false
    }
   },
   "outputs": [],
   "source": [
    "import numpy as np # use for processing python's array\n",
    "import pandas as pd # data processing, CSV file I/O (e.g. pd.read_csv)"
   ]
  },
  {
   "cell_type": "markdown",
   "metadata": {
    "_uuid": "2996d40561d475c2830c57cc7a5b79f3f9a46de2",
    "button": false,
    "new_sheet": false,
    "run_control": {
     "read_only": false
    }
   },
   "source": [
    "create a python list"
   ]
  },
  {
   "cell_type": "code",
   "execution_count": 2,
   "metadata": {
    "_uuid": "e674f48ab8c4282c06f2c7ab087731d5e207c1a6",
    "button": false,
    "new_sheet": false,
    "run_control": {
     "read_only": false
    }
   },
   "outputs": [
    {
     "data": {
      "text/plain": [
       "[1, 2, 3]"
      ]
     },
     "execution_count": 2,
     "metadata": {},
     "output_type": "execute_result"
    }
   ],
   "source": [
    "[1,2,3]"
   ]
  },
  {
   "cell_type": "markdown",
   "metadata": {
    "_uuid": "8de7a767363b3a783b47f66fa5e5be217f19c84b",
    "button": false,
    "new_sheet": false,
    "run_control": {
     "read_only": false
    }
   },
   "source": [
    "2D python list"
   ]
  },
  {
   "cell_type": "code",
   "execution_count": 3,
   "metadata": {
    "_uuid": "75ac6b9d186ff23a564be6b48698641f29a360e2",
    "button": false,
    "new_sheet": false,
    "run_control": {
     "read_only": false
    }
   },
   "outputs": [
    {
     "data": {
      "text/plain": [
       "[[1, 2, 3], [4, 5, 6]]"
      ]
     },
     "execution_count": 3,
     "metadata": {},
     "output_type": "execute_result"
    }
   ],
   "source": [
    "[[ 1, 2, 3],[ 4, 5, 6]]"
   ]
  },
  {
   "cell_type": "markdown",
   "metadata": {
    "_uuid": "aeabb5140b0dbf9bef98b2817a4f5b180e0bba61",
    "button": false,
    "new_sheet": false,
    "run_control": {
     "read_only": false
    }
   },
   "source": [
    "Create Array using numpy from traditional python list"
   ]
  },
  {
   "cell_type": "code",
   "execution_count": 4,
   "metadata": {
    "_uuid": "aebb0040493c3eab313c247189b344f3442635a2",
    "button": false,
    "new_sheet": false,
    "run_control": {
     "read_only": false
    }
   },
   "outputs": [
    {
     "name": "stdout",
     "output_type": "stream",
     "text": [
      "type of a: <class 'numpy.ndarray'>\n",
      "a:  [1 2 3]\n",
      "type of b: <class 'numpy.ndarray'>\n",
      "b:  [[1 2 3]\n",
      " [4 5 6]]\n"
     ]
    }
   ],
   "source": [
    "a = np.array([1, 2, 3])\n",
    "b = np.array([(1,2,3), (4,5,6)])\n",
    "\n",
    "print(\"type of a: \" + str(type(a)))\n",
    "print(\"a: \",a)\n",
    "print(\"type of b: \" + str(type(b)))\n",
    "print(\"b: \",b)"
   ]
  },
  {
   "cell_type": "markdown",
   "metadata": {
    "_uuid": "1167c9394bd6be70a0c045d698f7009a9f117b6a",
    "button": false,
    "new_sheet": false,
    "run_control": {
     "read_only": false
    }
   },
   "source": [
    "NumPy's array class is **ndarray**, which has an alias  **numpy.array**, but it's different from **array.array** in the Python standard library. The latter is just a one-dimensional array. The features of **ndarray** are as follows:\n",
    "<a id=\"1\"></a>\n",
    "<mark>[Return Contents](#0)\n",
    "<hr>\n",
    "\n",
    "* **ndarray.ndim:** the dimension number of the array. It's called rank in Python.\n",
    "* **ndarray.shape:** the dimension of the array. It's a series of numbers whose length is determined by the dimension （ndim） of the array. For example, the shape of a one-dimensional array with length n is n. And the shape of an array with n rows and m columns is n,m.\n",
    "* **ndarray.size:** the number of all elements in the array.\n",
    "* **ndarray.dtype:** the type of the element in the array, such as numpy.int32, numpy.int16, or numpy.float64.\n",
    "* **ndarray.itemsize:** the size of each element in the array, in bytes.\n",
    "* **ndarray.data:** the buffering for storing the array elements. Usually we only need to access the elements by subscripts, and don't need to access the buffer.\n",
    "\n",
    "Let's take a look at the code example:"
   ]
  },
  {
   "cell_type": "code",
   "execution_count": 5,
   "metadata": {
    "_uuid": "dbe83d57fb5ea992077a6565ce3628531a50dbf3",
    "button": false,
    "new_sheet": false,
    "run_control": {
     "read_only": false
    }
   },
   "outputs": [
    {
     "name": "stdout",
     "output_type": "stream",
     "text": [
      "a = [1 2 3]\n",
      "a's ndim 1\n",
      "a's shape (3,)\n",
      "a's size 3\n",
      "a's dtype int64\n",
      "a's itemsize 8\n",
      "\n",
      "\n",
      "b = [[1 2 3]\n",
      " [4 5 6]]\n",
      "b's ndim 2\n",
      "b's shape (2, 3)\n",
      "b's size 6\n",
      "b's dtype int64\n",
      "b's itemsize 8\n"
     ]
    }
   ],
   "source": [
    "a = np.array([1, 2, 3])\n",
    "b = np.array([(1,2,3), (4,5,6)])\n",
    "\n",
    "print(\"a = {}\".format(a))\n",
    "print(\"a's ndim {}\".format(a.ndim))\n",
    "print(\"a's shape {}\".format(a.shape))\n",
    "print(\"a's size {}\".format(a.size))\n",
    "print(\"a's dtype {}\".format(a.dtype))\n",
    "\n",
    "'''help(np.ndarray.itemsize)'''\n",
    "''' itemsize is the length of one array element in bytes'''\n",
    "print(\"a's itemsize {}\".format(a.itemsize))\n",
    "\n",
    "print('\\n')\n",
    "\n",
    "print(\"b = {}\".format(b))\n",
    "print(\"b's ndim {}\".format(b.ndim))\n",
    "print(\"b's shape {}\".format(b.shape))\n",
    "print(\"b's size {}\".format(b.size))\n",
    "print(\"b's dtype {}\".format(b.dtype))\n",
    "print(\"b's itemsize {}\".format(b.itemsize))"
   ]
  },
  {
   "cell_type": "markdown",
   "metadata": {
    "_uuid": "eafdd6863a8e825a9aa950913384498fa54c80ca",
    "button": false,
    "new_sheet": false,
    "run_control": {
     "read_only": false
    }
   },
   "source": [
    "We can also specify the type of the element when creating the array, for example:\n",
    "\n",
    "This is how to create an array of complex numbers "
   ]
  },
  {
   "cell_type": "code",
   "execution_count": 6,
   "metadata": {
    "_uuid": "a1aef2d7545dc40ae13b82f7d23ebb21587111e1",
    "button": false,
    "new_sheet": false,
    "run_control": {
     "read_only": false
    }
   },
   "outputs": [
    {
     "data": {
      "text/plain": [
       "array([[1.+0.j, 2.+0.j],\n",
       "       [3.+0.j, 4.+0.j]])"
      ]
     },
     "execution_count": 6,
     "metadata": {},
     "output_type": "execute_result"
    }
   ],
   "source": [
    "c = np.array( \n",
    "                [ \n",
    "                    [1,2],\n",
    "                    [3,4] \n",
    "                ], \n",
    "                dtype=complex \n",
    "            )\n",
    "c"
   ]
  },
  {
   "cell_type": "markdown",
   "metadata": {
    "_uuid": "13627c7fab3119daf7be184a0f42f8ed60a2f40f",
    "button": false,
    "new_sheet": false,
    "run_control": {
     "read_only": false
    }
   },
   "source": [
    "## Create a specific array<a id=\"2\"></a>\n",
    "<mark>[Return Contents](#0)\n",
    "<hr>\n",
    "\n",
    "In actual project engineering, we often need some specific data, and some helper functions are provided in NumPy:\n",
    "\n",
    "* **zeros:** used to create an array whose elements are all 0\n",
    "* **ones:** used to create an array whose elements are all 1\n",
    "* **empty:** used to create uninitialized data. so the content is undefined.\n",
    "* **arange:** used to create an array by specifying the scope and step-length\n",
    "* **linespace:** used to create an array by specifying the range and the number of elements\n",
    "* **random:** used to generate random numbers"
   ]
  },
  {
   "cell_type": "code",
   "execution_count": 9,
   "metadata": {
    "_uuid": "efc52c4adbc234364c5e4aae77a207387c5b941c",
    "button": false,
    "new_sheet": false,
    "run_control": {
     "read_only": false
    }
   },
   "outputs": [
    {
     "name": "stdout",
     "output_type": "stream",
     "text": [
      "np.zeros((2,3)= \n",
      "[[0. 0. 0.]\n",
      " [0. 0. 0.]]\n",
      "\n",
      "np.ones((2,3))= \n",
      "[[1. 1. 1.]\n",
      " [1. 1. 1.]]\n",
      "\n",
      "np.empty((2,3))= \n",
      "[[1. 1. 1.]\n",
      " [1. 1. 1.]]\n",
      "\n",
      "np.arange(1, 2, 0.3)= \n",
      "[1.  1.3 1.6 1.9]\n",
      "\n",
      "np.linspace(1, 2, 7)= \n",
      "[1.         1.16666667 1.33333333 1.5        1.66666667 1.83333333\n",
      " 2.        ]\n",
      "\n",
      "np.random.random((2,3))= \n",
      "[[0.59609611 0.05552202 0.77617303]\n",
      " [0.28220194 0.18054951 0.05745398]]\n",
      "\n"
     ]
    }
   ],
   "source": [
    "a = np.zeros((2,3))\n",
    "print('np.zeros((2,3)= \\n{}\\n'.format(a))\n",
    "\n",
    "b = np.ones((2,3))\n",
    "print('np.ones((2,3))= \\n{}\\n'.format(b))\n",
    "\n",
    "c = np.empty((2,3))\n",
    "print('np.empty((2,3))= \\n{}\\n'.format(c))\n",
    "\n",
    "# np.arange returns evenly spaced values within a given interval.\n",
    "d = np.arange(1, 2, 0.3)\n",
    "print('np.arange(1, 2, 0.3)= \\n{}\\n'.format(d))\n",
    "\n",
    "# nplinspace returns `num` evenly spaced samples, calculated over the interval [`start`, `stop`].\n",
    "e = np.linspace(1, 2, 7)\n",
    "print('np.linspace(1, 2, 7)= \\n{}\\n'.format(e))\n",
    "\n",
    "f = np.random.random((2,3))\n",
    "print('np.random.random((2,3))= \\n{}\\n'.format(f))"
   ]
  },
  {
   "cell_type": "markdown",
   "metadata": {
    "_uuid": "fd4eef4ed6dcb4a0e3041b235d3d2461e66b817f",
    "button": false,
    "new_sheet": false,
    "run_control": {
     "read_only": false
    }
   },
   "source": [
    "## Shape and operation<a id=\"3\"></a>\n",
    "<mark>[Return Contents](#0)\n",
    "<hr>\n",
    "\n",
    "In addition to generating an array, after we have held some data, we may need to generate some new data structures based on the existing array. In this case, we can use the following functions:\n",
    "\n",
    "* **reshape:** used to generate a new array based on the existing array and the specified shape\n",
    "* **vstack:** used to stack multiple arrays in vertical direction (the dimensions of the array must be matched)\n",
    "* **hstack:** used to stack multiple arrays in horizontal direction (the dimensions of the array must be matched)\n",
    "* **hsplit:** used to split the array horizontally\n",
    "* **vsplit:** used to split the array vertically\n",
    "\n",
    "We'll use some examples to illustrate.\n",
    "\n",
    "To make it easier to test, let's create a few data:\n",
    "\n",
    "* **zero_line:** an array with a row containing three 0\n",
    "* **one_column:** an array with a column containing three 1\n",
    "* **a:** a matrix with 2 rows and 3 columns\n",
    "* **b:** an integer array in the interval of [11,20]"
   ]
  },
  {
   "cell_type": "code",
   "execution_count": 29,
   "metadata": {
    "_uuid": "183a876e8c1fb4a04fcdebb5fe5f80357f2c6455",
    "button": false,
    "new_sheet": false,
    "run_control": {
     "read_only": false
    }
   },
   "outputs": [
    {
     "name": "stdout",
     "output_type": "stream",
     "text": [
      "zero_line = \n",
      "[[0. 0. 0.]]\n",
      "\n",
      "one_column = \n",
      "[[1.]\n",
      " [1.]\n",
      " [1.]]\n",
      "\n",
      "a = [[1 2 3]\n",
      " [4 5 6]]\n",
      "\n",
      "b = [11 12 13 14 15 16 17 18 19]\n",
      "\n"
     ]
    }
   ],
   "source": [
    "zero_line = np.zeros((1,3))\n",
    "one_column = np.ones((3,1))\n",
    "print(\"zero_line = \\n{}\\n\".format(zero_line))\n",
    "print(\"one_column = \\n{}\\n\".format(one_column))\n",
    "\n",
    "a = np.array([(1,2,3), (4,5,6)])\n",
    "b = np.arange(11, 20)\n",
    "print(\"a = {}\\n\".format(a))\n",
    "print(\"b = {}\\n\".format(b))"
   ]
  },
  {
   "cell_type": "markdown",
   "metadata": {
    "_uuid": "965b93ea00a0024b9e8820d5bf3d802e9e7e29f9",
    "button": false,
    "new_sheet": false,
    "run_control": {
     "read_only": false
    }
   },
   "source": [
    "The array b is a one-dimensional array originally, and we resize it into a matrix of 3 rows and 3 columns by the reshape method:"
   ]
  },
  {
   "cell_type": "code",
   "execution_count": 35,
   "metadata": {
    "_uuid": "4d505f232ce6286451728e4f85b12d9bdde64654",
    "button": false,
    "new_sheet": false,
    "run_control": {
     "read_only": false
    }
   },
   "outputs": [
    {
     "name": "stdout",
     "output_type": "stream",
     "text": [
      "b.reshape(3, -1) = \n",
      "[[11 12 13]\n",
      " [14 15 16]\n",
      " [17 18 19]]\n",
      "\n"
     ]
    }
   ],
   "source": [
    "b = b.reshape(3, -1)\n",
    "print(\"b.reshape(3, -1) = \\n{}\\n\".format(b))"
   ]
  },
  {
   "cell_type": "markdown",
   "metadata": {
    "_uuid": "54983a9eb06f0696c16e154aa9dc82b10694c9af",
    "button": false,
    "new_sheet": false,
    "run_control": {
     "read_only": false
    }
   },
   "source": [
    "The second parameter here is set to -1, which means that it'll be determined based on actual conditions automatically. Since the array has 9 elements originally, the matrix after being resized is 3X3. The code output is as follows:"
   ]
  },
  {
   "cell_type": "code",
   "execution_count": 15,
   "metadata": {
    "_uuid": "734fb79e97a046f2af59d1baf28cebcda11b7c98",
    "button": false,
    "new_sheet": false,
    "run_control": {
     "read_only": false
    }
   },
   "outputs": [
    {
     "data": {
      "text/plain": [
       "array([[11, 12, 13],\n",
       "       [14, 15, 16],\n",
       "       [17, 18, 19]])"
      ]
     },
     "execution_count": 15,
     "metadata": {},
     "output_type": "execute_result"
    }
   ],
   "source": [
    "b.reshape(3, -1)"
   ]
  },
  {
   "cell_type": "markdown",
   "metadata": {
    "_uuid": "a78d85d3cc1a16f67c4d1df518064d9f6655a9d0",
    "button": false,
    "new_sheet": false,
    "run_control": {
     "read_only": false
    }
   },
   "source": [
    "Next, we'll stack the three arrays vertically through the vstack function:"
   ]
  },
  {
   "cell_type": "code",
   "execution_count": 16,
   "metadata": {
    "_uuid": "0b792ff88126b66792f6d9cd7231935391a449ac",
    "button": false,
    "new_sheet": false,
    "run_control": {
     "read_only": false
    }
   },
   "outputs": [
    {
     "name": "stdout",
     "output_type": "stream",
     "text": [
      "a = [[1 2 3]\n",
      " [4 5 6]]\n",
      "\n",
      "b = [[11 12 13]\n",
      " [14 15 16]\n",
      " [17 18 19]]\n",
      "\n",
      "zero_line = [[0. 0. 0.]]\n",
      "\n",
      "c = np.vstack((a,b, zero_line)) = \n",
      "[[ 1.  2.  3.]\n",
      " [ 4.  5.  6.]\n",
      " [11. 12. 13.]\n",
      " [14. 15. 16.]\n",
      " [17. 18. 19.]\n",
      " [ 0.  0.  0.]]\n",
      "\n"
     ]
    }
   ],
   "source": [
    "print(\"a = {}\\n\".format(a))\n",
    "print(\"b = {}\\n\".format(b))\n",
    "print(\"zero_line = {}\\n\".format(zero_line))\n",
    "\n",
    "c = np.vstack((a, b, zero_line))\n",
    "print(\"c = np.vstack((a,b, zero_line)) = \\n{}\\n\".format(c))"
   ]
  },
  {
   "cell_type": "markdown",
   "metadata": {
    "_uuid": "ebe627c6bcccc9bcc539ab5016ee41d918970782",
    "button": false,
    "new_sheet": false,
    "run_control": {
     "read_only": false
    }
   },
   "source": [
    "Similarly, we can also use the hstack for horizontal stacking. This time we need to adjust the structure of the array a first:"
   ]
  },
  {
   "cell_type": "code",
   "execution_count": 18,
   "metadata": {
    "_uuid": "741a43b359a2c9d749f8de79cabbb5c9a8424e4e",
    "button": false,
    "new_sheet": false,
    "run_control": {
     "read_only": false
    },
    "scrolled": true
   },
   "outputs": [
    {
     "name": "stdout",
     "output_type": "stream",
     "text": [
      "a before reshape = \n",
      "[[1 2]\n",
      " [3 4]\n",
      " [5 6]]\n",
      "\n",
      "a.reshape(3, 2) = \n",
      "[[1 2]\n",
      " [3 4]\n",
      " [5 6]]\n",
      "\n",
      "d = np.hstack((a,b, one_column)) = \n",
      "[[ 1.  2. 11. 12. 13.  1.]\n",
      " [ 3.  4. 14. 15. 16.  1.]\n",
      " [ 5.  6. 17. 18. 19.  1.]]\n",
      "\n"
     ]
    }
   ],
   "source": [
    "print(\"a before reshape = \\n{}\\n\".format(a))\n",
    "a = a.reshape(3, 2)\n",
    "print(\"a.reshape(3, 2) = \\n{}\\n\".format(a))\n",
    "\n",
    "d = np.hstack((a, b, one_column))\n",
    "print(\"d = np.hstack((a,b, one_column)) = \\n{}\\n\".format(d))"
   ]
  },
  {
   "cell_type": "markdown",
   "metadata": {
    "_uuid": "da72cee4b256e82e012acd360bde444f24753bb5",
    "button": false,
    "new_sheet": false,
    "run_control": {
     "read_only": false
    }
   },
   "source": [
    "Next, let's take a look at the split. First, we split the array d into three arrays in horizontal direction. Then we print out the middle one (the subscript is 1):"
   ]
  },
  {
   "cell_type": "code",
   "execution_count": 53,
   "metadata": {
    "_uuid": "49410d8c4a2de4401e68ae9482a04dcedf0fb255",
    "button": false,
    "new_sheet": false,
    "run_control": {
     "read_only": false
    }
   },
   "outputs": [
    {
     "name": "stdout",
     "output_type": "stream",
     "text": [
      "e = np.hsplit(d, 3) = \n",
      "[array([[1., 2.],\n",
      "       [3., 4.],\n",
      "       [5., 6.]]), array([[11., 12.],\n",
      "       [14., 15.],\n",
      "       [17., 18.]]), array([[13.,  1.],\n",
      "       [16.,  1.],\n",
      "       [19.,  1.]])]\n",
      "\n",
      "e[1] = \n",
      "[[11. 12.]\n",
      " [14. 15.]\n",
      " [17. 18.]]\n",
      "\n"
     ]
    }
   ],
   "source": [
    "e = np.hsplit(d, 3) # Split a into 3\n",
    "print(\"e = np.hsplit(d, 3) = \\n{}\\n\".format(e))\n",
    "print(\"e[1] = \\n{}\\n\".format(e[1]))\n"
   ]
  },
  {
   "cell_type": "markdown",
   "metadata": {
    "_uuid": "850665290468de42b4600b8ada00106bfbde0fd6",
    "button": false,
    "new_sheet": false,
    "run_control": {
     "read_only": false
    }
   },
   "source": [
    "In addition to specifying number to split the array evenly, we can also specify the number of columns to split. The following is to split the array d from the first column and the third column:"
   ]
  },
  {
   "cell_type": "code",
   "execution_count": 54,
   "metadata": {
    "_uuid": "83c2e07835fad242fa05bfc21bb5c1933f98b630",
    "button": false,
    "new_sheet": false,
    "run_control": {
     "read_only": false
    }
   },
   "outputs": [
    {
     "name": "stdout",
     "output_type": "stream",
     "text": [
      "f = np.hsplit(d, (1, 3)) = \n",
      "[array([[1.],\n",
      "       [3.],\n",
      "       [5.]]), array([[ 2., 11.],\n",
      "       [ 4., 14.],\n",
      "       [ 6., 17.]]), array([[12., 13.,  1.],\n",
      "       [15., 16.,  1.],\n",
      "       [18., 19.,  1.]])]\n",
      "\n"
     ]
    }
   ],
   "source": [
    "f = np.hsplit(d, (1, 3)) # # Split after the 1st and the 3rd column\n",
    "print(\"f = np.hsplit(d, (1, 3)) = \\n{}\\n\".format(f))"
   ]
  },
  {
   "cell_type": "markdown",
   "metadata": {
    "_uuid": "cd147a6ef41ef2e15d1001cc324d41193ec055ad",
    "button": false,
    "new_sheet": false,
    "run_control": {
     "read_only": false
    }
   },
   "source": [
    "Finally, we split the array d in the vertical direction. Similarly, if the specified number cannot make the array be split evenly, it will fail:"
   ]
  },
  {
   "cell_type": "code",
   "execution_count": 55,
   "metadata": {
    "_uuid": "12eb3db4e0596f056b5ee4314d57ca5e67ad3106",
    "button": false,
    "new_sheet": false,
    "run_control": {
     "read_only": false
    }
   },
   "outputs": [
    {
     "name": "stdout",
     "output_type": "stream",
     "text": [
      "np.vsplit(d, 3) = \n",
      "[array([[ 1.,  2., 11., 12., 13.,  1.]]), array([[ 3.,  4., 14., 15., 16.,  1.]]), array([[ 5.,  6., 17., 18., 19.,  1.]])]\n",
      "\n"
     ]
    }
   ],
   "source": [
    "g = np.vsplit(d, 3)\n",
    "print(\"np.vsplit(d, 3) = \\n{}\\n\".format(g))\n",
    "\n",
    "# g = np.vsplit(d, 2)\n",
    "# print(\"np.vsplit(d, 2) = \\n{}\\n\".format(g))\n",
    "\n",
    "# np.vsplit(d, 2) # ValueError: array split does not result in an equal division"
   ]
  },
  {
   "cell_type": "markdown",
   "metadata": {
    "_uuid": "1860b6716e3db57b6d302afdd6f68edb608c23f3",
    "button": false,
    "new_sheet": false,
    "run_control": {
     "read_only": false
    }
   },
   "source": [
    "## Index<a id=\"4\"></a>\n",
    "<mark>[Return Contents](#0)\n",
    "<hr>\n",
    "\n",
    "Next we look at how to access the data in the NumPy array.\n",
    "\n",
    "Again, for testing convenience, let's create a one-dimensional array first. Its content is integers in the interval of [100,200).\n",
    "\n",
    "Basically, we can specify the subscripts by array[index] to access the elements of the array."
   ]
  },
  {
   "cell_type": "code",
   "execution_count": 57,
   "metadata": {
    "_uuid": "50f45c6c7e780069549a2e186f5cb705d46d685a",
    "button": false,
    "new_sheet": false,
    "run_control": {
     "read_only": false
    }
   },
   "outputs": [
    {
     "name": "stdout",
     "output_type": "stream",
     "text": [
      "base_data\n",
      "=[100 101 102 103 104 105 106 107 108 109 110 111 112 113 114 115 116 117\n",
      " 118 119 120 121 122 123 124 125 126 127 128 129 130 131 132 133 134 135\n",
      " 136 137 138 139 140 141 142 143 144 145 146 147 148 149 150 151 152 153\n",
      " 154 155 156 157 158 159 160 161 162 163 164 165 166 167 168 169 170 171\n",
      " 172 173 174 175 176 177 178 179 180 181 182 183 184 185 186 187 188 189\n",
      " 190 191 192 193 194 195 196 197 198 199]\n",
      "\n",
      "base_data[10] = 110\n",
      "\n"
     ]
    }
   ],
   "source": [
    "base_data = np.arange(100, 200)\n",
    "print(\"base_data\\n={}\\n\".format(base_data))\n",
    "\n",
    "print(\"base_data[10] = {}\\n\".format(base_data[10]))"
   ]
  },
  {
   "cell_type": "markdown",
   "metadata": {
    "_uuid": "9f51fb2baca7b095cb14d63d096733c536076dc0",
    "button": false,
    "new_sheet": false,
    "run_control": {
     "read_only": false
    }
   },
   "source": [
    "In NumPy, we can create an array containing several subscripts to get the elements in the target array. For example:"
   ]
  },
  {
   "cell_type": "code",
   "execution_count": 58,
   "metadata": {
    "_uuid": "99408ffa558ae8b9332aa9753c3dc8d1c119f681",
    "button": false,
    "new_sheet": false,
    "run_control": {
     "read_only": false
    }
   },
   "outputs": [
    {
     "name": "stdout",
     "output_type": "stream",
     "text": [
      "base_data[every_five] = \n",
      "[100 105 110 115 120 125 130 135 140 145 150 155 160 165 170 175 180 185\n",
      " 190 195]\n",
      "\n"
     ]
    }
   ],
   "source": [
    "every_five = np.arange(0, 100, 5)\n",
    "print(\"base_data[every_five] = \\n{}\\n\".format(\n",
    "    base_data[every_five]))"
   ]
  },
  {
   "cell_type": "markdown",
   "metadata": {
    "_uuid": "8735fdc0428754458b3a23cdf58d2818b59098a5",
    "button": false,
    "new_sheet": false,
    "run_control": {
     "read_only": false
    }
   },
   "source": [
    "The subscript array can be one-dimensional, or multi-dimensional. Let's suppose that we want to get a 2X2 matrix whose content comes from the four subscripts of 1, 2, 10, and 20 in the target array, so the code can be written:"
   ]
  },
  {
   "cell_type": "code",
   "execution_count": 59,
   "metadata": {
    "_uuid": "d434066f61772de0c12e6fd8c3c7eb94852ccfb7",
    "button": false,
    "new_sheet": false,
    "run_control": {
     "read_only": false
    }
   },
   "outputs": [
    {
     "name": "stdout",
     "output_type": "stream",
     "text": [
      "a = \n",
      "[[ 1  2]\n",
      " [10 20]]\n",
      "\n",
      "base_data[a] = \n",
      "[[101 102]\n",
      " [110 120]]\n",
      "\n"
     ]
    }
   ],
   "source": [
    "a = np.array([(1,2), (10,20)])\n",
    "print(\"a = \\n{}\\n\".format(a))\n",
    "print(\"base_data[a] = \\n{}\\n\".format(base_data[a]))"
   ]
  },
  {
   "cell_type": "markdown",
   "metadata": {
    "_uuid": "7dd58d1c2c948be7a0e8c0bbd9e586011c44cbe3",
    "button": false,
    "new_sheet": false,
    "run_control": {
     "read_only": false
    }
   },
   "source": [
    "The above we see is the case where the target array is one-dimensional. Let's convert the following array into a 10X10 two-dimensional array."
   ]
  },
  {
   "cell_type": "code",
   "execution_count": 60,
   "metadata": {
    "_uuid": "8a1576f10685c5e37d796f7350b4687123132491",
    "button": false,
    "new_sheet": false,
    "run_control": {
     "read_only": false
    }
   },
   "outputs": [
    {
     "name": "stdout",
     "output_type": "stream",
     "text": [
      "base_data2 = np.reshape(base_data, (10, -1)) = \n",
      "[[100 101 102 103 104 105 106 107 108 109]\n",
      " [110 111 112 113 114 115 116 117 118 119]\n",
      " [120 121 122 123 124 125 126 127 128 129]\n",
      " [130 131 132 133 134 135 136 137 138 139]\n",
      " [140 141 142 143 144 145 146 147 148 149]\n",
      " [150 151 152 153 154 155 156 157 158 159]\n",
      " [160 161 162 163 164 165 166 167 168 169]\n",
      " [170 171 172 173 174 175 176 177 178 179]\n",
      " [180 181 182 183 184 185 186 187 188 189]\n",
      " [190 191 192 193 194 195 196 197 198 199]]\n",
      "\n"
     ]
    }
   ],
   "source": [
    "base_data2 = base_data.reshape(10, -1)\n",
    "print(\"base_data2 = np.reshape(base_data, (10, -1)) = \\n{}\\n\".format(base_data2))"
   ]
  },
  {
   "cell_type": "markdown",
   "metadata": {
    "_uuid": "f3f6be4a7fd80a1fee342b3b8c22dbc07b6979f1",
    "button": false,
    "new_sheet": false,
    "run_control": {
     "read_only": false
    }
   },
   "source": [
    "For a two-dimensional array,\n",
    "\n",
    "* if we only specify one subscript, the result of the access is still an array.\n",
    "* if we specify two subscripts,  the result of the access is the elements inside.\n",
    "* we can also specify the last element by \"-1\"."
   ]
  },
  {
   "cell_type": "code",
   "execution_count": 20,
   "metadata": {
    "_uuid": "c0808ae64994a8ddc782e048de38fc91ded514cd",
    "button": false,
    "new_sheet": false,
    "run_control": {
     "read_only": false
    }
   },
   "outputs": [
    {
     "name": "stdout",
     "output_type": "stream",
     "text": [
      "base_data2[2] = \n",
      "[120 121 122 123 124 125 126 127 128 129]\n",
      "\n",
      "base_data2[2, 3] = \n",
      "123\n",
      "\n",
      "base_data2[-1, -1] = \n",
      "199\n",
      "\n"
     ]
    }
   ],
   "source": [
    "print(\"base_data2[2] = \\n{}\\n\".format(base_data2[2]))\n",
    "print(\"base_data2[2, 3] = \\n{}\\n\".format(base_data2[2, 3]))\n",
    "print(\"base_data2[-1, -1] = \\n{}\\n\".format(base_data2[-1, -1]))"
   ]
  },
  {
   "cell_type": "markdown",
   "metadata": {
    "_uuid": "697c271a0333c44ba183195e79569e473c1e5b4d",
    "button": false,
    "new_sheet": false,
    "run_control": {
     "read_only": false
    }
   },
   "source": [
    "In addition, we can also specify the scope by \":\", such as: 2:5 . Only to write \":\" indicates the full scope.\n",
    "\n",
    "Please see the code below:\n",
    "\n",
    "It will:\n",
    "\n",
    "* get all the elements of the row whose subscript is 2\n",
    "* get all the elements of the column whose subscript is 3\n",
    "* get all the elements of the rows whose subscripts are in [2,5) and the columns * whose subscripts are in [2,4). Please observe the following output carefully:"
   ]
  },
  {
   "cell_type": "code",
   "execution_count": 21,
   "metadata": {
    "_uuid": "d815b60dafc48b9bc6752bab52e380fc255b7912",
    "button": false,
    "new_sheet": false,
    "run_control": {
     "read_only": false
    }
   },
   "outputs": [
    {
     "name": "stdout",
     "output_type": "stream",
     "text": [
      "base_data2[2, :]] = \n",
      "[120 121 122 123 124 125 126 127 128 129]\n",
      "\n",
      "base_data2[:, 3]] = \n",
      "[103 113 123 133 143 153 163 173 183 193]\n",
      "\n",
      "base_data2[2:5, 2:4]] = \n",
      "[[122 123]\n",
      " [132 133]\n",
      " [142 143]]\n",
      "\n"
     ]
    }
   ],
   "source": [
    "print(\"base_data2[2, :]] = \\n{}\\n\".format(base_data2[2, :]))\n",
    "print(\"base_data2[:, 3]] = \\n{}\\n\".format(base_data2[:, 3]))\n",
    "print(\"base_data2[2:5, 2:4]] = \\n{}\\n\".format(base_data2[2:5, 2:4]))"
   ]
  },
  {
   "cell_type": "markdown",
   "metadata": {
    "_uuid": "6392e02699f97abb3b2a92d8f43461121b1ac3e1",
    "button": false,
    "new_sheet": false,
    "run_control": {
     "read_only": false
    }
   },
   "source": [
    "## Mathematics<a id=\"5\"></a>\n",
    "<mark>[Return Contents](#0)\n",
    "<hr>"
   ]
  },
  {
   "cell_type": "markdown",
   "metadata": {
    "_uuid": "b2916d268046ecc168235673b101b48935086d0b",
    "button": false,
    "new_sheet": false,
    "run_control": {
     "read_only": false
    }
   },
   "source": [
    "There are also a lot of mathematical functions in NumPy. Here are some examples."
   ]
  },
  {
   "cell_type": "code",
   "execution_count": 19,
   "metadata": {
    "_uuid": "7bbef723ae17c3b93003964cd0f81346dbc67670",
    "button": false,
    "new_sheet": false,
    "run_control": {
     "read_only": false
    }
   },
   "outputs": [
    {
     "name": "stdout",
     "output_type": "stream",
     "text": [
      "base_data = \n",
      "[[  0.8499376  -41.75491308 -36.91769318  48.84380335  41.261931  ]\n",
      " [ -6.04169601  15.01652354  -4.53319808 -44.62746075 -41.9417029 ]\n",
      " [ -1.00804415 -44.22867579  19.92208018   3.43163013 -21.826752  ]\n",
      " [ -6.59339312  33.30659187 -24.80816295 -41.58744525  22.81920751]\n",
      " [ 48.82586026 -46.11897354 -41.52352356   8.9977394   29.63208881]]\n",
      "\n",
      "np.amin(base_data) = -46.118973536159025\n",
      "np.amax(base_data) = 48.84380334608265\n",
      "np.average(base_data) = -5.224169628718734\n",
      "np.sum(base_data) = -130.60424071796834\n",
      "np.sin(base_data) = \n",
      "[[ 0.75123922  0.79207974  0.70428726 -0.98890261 -0.40888005]\n",
      " [ 0.23914897  0.63764691  0.98398822 -0.60132916  0.89165979]\n",
      " [-0.84578999 -0.24389356  0.87840967 -0.28598814 -0.16365707]\n",
      " [-0.30525654  0.94927661  0.31890911  0.67925039 -0.73662001]\n",
      " [-0.991409   -0.84411708  0.63098255  0.41417714 -0.97739238]]\n"
     ]
    }
   ],
   "source": [
    "base_data = (np.random.random((5, 5)) - 0.5) * 100\n",
    "\n",
    "print(\"base_data = \\n{}\\n\".format(base_data))\n",
    "\n",
    "print(\"np.amin(base_data) = {}\".format(np.amin(base_data)))\n",
    "print(\"np.amax(base_data) = {}\".format(np.amax(base_data)))\n",
    "print(\"np.average(base_data) = {}\".format(np.average(base_data)))\n",
    "print(\"np.sum(base_data) = {}\".format(np.sum(base_data)))\n",
    "print(\"np.sin(base_data) = \\n{}\".format(np.sin(base_data)))"
   ]
  },
  {
   "cell_type": "code",
   "execution_count": 20,
   "metadata": {
    "_uuid": "f0509daea35041de88510b1f1caa0ea709437ecd"
   },
   "outputs": [
    {
     "name": "stdout",
     "output_type": "stream",
     "text": [
      "Multpiles:  [  1   4   9  16  25  36  49  64  81 100 121 144 169 196 225 256 289 324\n",
      " 361]\n",
      "Substracts:  [0 0 0 0 0 0 0 0 0 0 0 0 0 0 0 0 0 0 0]\n",
      "Add:  [ 2  4  6  8 10 12 14 16 18 20 22 24 26 28 30 32 34 36 38]\n",
      "Divide:  [1. 1. 1. 1. 1. 1. 1. 1. 1. 1. 1. 1. 1. 1. 1. 1. 1. 1. 1.]\n",
      "Add +50:  [51 52 53 54 55 56 57 58 59 60 61 62 63 64 65 66 67 68 69]\n"
     ]
    }
   ],
   "source": [
    "arr = np.arange(1,20)\n",
    "arr = arr * arr              #Multiplies each element by itself \n",
    "print(\"Multpiles: \",arr)\n",
    "arr = arr - arr              #Subtracts each element from itself\n",
    "print(\"Substracts: \",arr)\n",
    "arr = np.arange(1,20)\n",
    "arr = arr + arr              #Adds each element to itself\n",
    "print(\"Add: \",arr)\n",
    "arr = arr / arr              #Divides each element by itself\n",
    "print(\"Divide: \",arr)\n",
    "arr = np.arange(1,20)\n",
    "arr = arr + 50\n",
    "print(\"Add +50: \",arr)"
   ]
  },
  {
   "cell_type": "code",
   "execution_count": 21,
   "metadata": {
    "_uuid": "f1102309d7542af1da3aa05bd4b90f03385347a7"
   },
   "outputs": [
    {
     "name": "stdout",
     "output_type": "stream",
     "text": [
      "Sqrt:  [7.14142843 7.21110255 7.28010989 7.34846923 7.41619849 7.48331477\n",
      " 7.54983444 7.61577311 7.68114575 7.74596669 7.81024968 7.87400787\n",
      " 7.93725393 8.         8.06225775 8.1240384  8.18535277 8.24621125\n",
      " 8.30662386]\n",
      "Exp:  [1.40934908e+22 3.83100800e+22 1.04137594e+23 2.83075330e+23\n",
      " 7.69478527e+23 2.09165950e+24 5.68572000e+24 1.54553894e+25\n",
      " 4.20121040e+25 1.14200739e+26 3.10429794e+26 8.43835667e+26\n",
      " 2.29378316e+27 6.23514908e+27 1.69488924e+28 4.60718663e+28\n",
      " 1.25236317e+29 3.40427605e+29 9.25378173e+29]\n",
      "Sin:  [ 0.67022918  0.98662759  0.39592515 -0.55878905 -0.99975517 -0.521551\n",
      "  0.43616476  0.99287265  0.63673801 -0.30481062 -0.96611777 -0.7391807\n",
      "  0.1673557   0.92002604  0.82682868 -0.02655115 -0.85551998 -0.89792768\n",
      " -0.11478481]\n",
      "Cos:  [ 0.7421542  -0.16299078 -0.91828279 -0.82930983  0.02212676  0.85322011\n",
      "  0.89986683  0.11918014 -0.77108022 -0.95241298 -0.25810164  0.67350716\n",
      "  0.98589658  0.39185723 -0.56245385 -0.99964746 -0.5177698   0.44014302\n",
      "  0.99339038]\n",
      "Log:  [3.93182563 3.95124372 3.97029191 3.98898405 4.00733319 4.02535169\n",
      " 4.04305127 4.06044301 4.07753744 4.09434456 4.11087386 4.12713439\n",
      " 4.14313473 4.15888308 4.17438727 4.18965474 4.20469262 4.21950771\n",
      " 4.2341065 ]\n",
      "Sum:  1140\n",
      "Std:  5.477225575051661\n"
     ]
    }
   ],
   "source": [
    "print(\"Sqrt: \",np.sqrt(arr))#Returns the square root of each element \n",
    "print(\"Exp: \",np.exp(arr))     #Returns the exponentials of each element\n",
    "print(\"Sin: \",np.sin(arr))     #Returns the sin of each element\n",
    "print(\"Cos: \",np.cos(arr))     #Returns the cosine of each element\n",
    "print(\"Log: \",np.log(arr))     #Returns the logarithm of each element\n",
    "print(\"Sum: \",np.sum(arr))     #Returns the sum total of elements in the array\n",
    "print(\"Std: \",np.std(arr))     #Returns the standard deviation of in the array"
   ]
  },
  {
   "cell_type": "markdown",
   "metadata": {
    "_uuid": "3fb98eb74a3551366c1a53f772398c12ebd7495c",
    "button": false,
    "new_sheet": false,
    "run_control": {
     "read_only": false
    }
   },
   "source": [
    "## Matrix<a id=\"6\"></a>\n",
    "<mark>[Return Contents](#0)\n",
    "<hr>\n",
    "\n",
    "Now, let's take a look at how to use NumPy in a matrix way.\n",
    "\n",
    "First, let's create a 5X5 random integer matrix. There are two ways to get the transpose of a matrix: **.T** or **transpose** function. In addition, the matrix can be multiplied through the **dot** function. The sample code is as follows:"
   ]
  },
  {
   "cell_type": "code",
   "execution_count": 39,
   "metadata": {
    "_uuid": "90e3bbc6a73de40f270d3e5ef24826b25b5c2d04",
    "button": false,
    "new_sheet": false,
    "run_control": {
     "read_only": false
    }
   },
   "outputs": [
    {
     "name": "stdout",
     "output_type": "stream",
     "text": [
      "base_data = \n",
      "[[ 30.  14. -34.  48.  41.]\n",
      " [ 23.  46.  -4.  26.  23.]\n",
      " [ 33. -47. -29.  25.  40.]\n",
      " [ 32.  -4.  25.  43.   0.]\n",
      " [ 48. -43.   8. -33. -46.]]\n",
      "\n",
      "base_data.T = \n",
      "[[ 30.  23.  33.  32.  48.]\n",
      " [ 14.  46. -47.  -4. -43.]\n",
      " [-34.  -4. -29.  25.   8.]\n",
      " [ 48.  26.  25.  43. -33.]\n",
      " [ 41.  23.  40.   0. -46.]]\n",
      "\n",
      "base_data.transpose() = \n",
      "[[ 30.  23.  33.  32.  48.]\n",
      " [ 14.  46. -47.  -4. -43.]\n",
      " [-34.  -4. -29.  25.   8.]\n",
      " [ 48.  26.  25.  43. -33.]\n",
      " [ 41.  23.  40.   0. -46.]]\n",
      "\n",
      "matrix_one = \n",
      "[[1. 1. 1. 1. 1.]\n",
      " [1. 1. 1. 1. 1.]\n",
      " [1. 1. 1. 1. 1.]\n",
      " [1. 1. 1. 1. 1.]\n",
      " [1. 1. 1. 1. 1.]]\n",
      "\n",
      "minus_one = \n",
      "[[-1. -1. -1. -1. -1.]\n",
      " [-1. -1. -1. -1. -1.]\n",
      " [-1. -1. -1. -1. -1.]\n",
      " [-1. -1. -1. -1. -1.]\n",
      " [-1. -1. -1. -1. -1.]]\n",
      "\n",
      "np.dot(base_data, minus_one) = \n",
      "[[ -99.  -99.  -99.  -99.  -99.]\n",
      " [-114. -114. -114. -114. -114.]\n",
      " [ -22.  -22.  -22.  -22.  -22.]\n",
      " [ -96.  -96.  -96.  -96.  -96.]\n",
      " [  66.   66.   66.   66.   66.]]\n",
      "\n"
     ]
    }
   ],
   "source": [
    "base_data = np.floor((np.random.random((5, 5)) - 0.5) * 100)\n",
    "print(\"base_data = \\n{}\\n\".format(base_data))\n",
    "\n",
    "print(\"base_data.T = \\n{}\\n\".format(base_data.T))\n",
    "print(\"base_data.transpose() = \\n{}\\n\".format(base_data.transpose()))\n",
    "\n",
    "matrix_one = np.ones((5, 5))\n",
    "print(\"matrix_one = \\n{}\\n\".format(matrix_one))\n",
    "\n",
    "minus_one = np.dot(matrix_one, -1)\n",
    "print(\"minus_one = \\n{}\\n\".format(minus_one))\n",
    "\n",
    "print(\"np.dot(base_data, minus_one) = \\n{}\\n\".format(np.dot(base_data, minus_one)))"
   ]
  },
  {
   "cell_type": "markdown",
   "metadata": {
    "_uuid": "0395dea256448fda62ac24ec0f2ac755afff1689",
    "button": false,
    "new_sheet": false,
    "run_control": {
     "read_only": false
    }
   },
   "source": [
    "## Random Number<a id=\"7\"></a>\n",
    "<mark>[Return Contents](#0)\n",
    "<hr>\n",
    "\n",
    "At the end of the article, let's take a look at the use of random numbers.\n",
    "\n",
    "Random numbers are a feature we use very often during the programming process, such as generating demo data, or disordering existing data sequence randomly to segment the modeling data and the verification data.\n",
    "\n",
    "The numpy.random package contains a number of algorithms for random numbers. Here we list the four most common usage:\n",
    "\n",
    "The four usages are:\n",
    "\n",
    "* to generate 20 random numbers, each of which is between **[0.0, 1.0)**\n",
    "* to generate a random number based on the specified **shape**\n",
    "* to generate a specified number (such as 20) of random integers within the specified range (such as **[0, 100)**)\n",
    "* to disorder the sequence of the existing data (**[0, 1, 2, ..., 19]**) randomly\n",
    "The output is as follows:"
   ]
  },
  {
   "cell_type": "code",
   "execution_count": 23,
   "metadata": {
    "_uuid": "ac8fcb29ab38c97ab39e8c30d0aa32221d78950e",
    "button": false,
    "new_sheet": false,
    "run_control": {
     "read_only": false
    }
   },
   "outputs": [
    {
     "name": "stdout",
     "output_type": "stream",
     "text": [
      "random: [0.25944114 0.36253917 0.35077834 0.43655043 0.42647146 0.77145511\n",
      " 0.61934651 0.43299402 0.15583117 0.10625015 0.71885961 0.04710073\n",
      " 0.87891742 0.13912546 0.32323545 0.24891571 0.17133242 0.36929783\n",
      " 0.0888041  0.71819591]\n",
      "\n",
      "rand: [[0.05505398 0.13393466 0.41773762 0.66907905]\n",
      " [0.80023159 0.57467911 0.874308   0.55139679]\n",
      " [0.72035707 0.63970047 0.30662578 0.1498054 ]]\n",
      "\n",
      "randint: [77 26  5 43 70 18 56 15 85 26 37 68 33 85 59  5 23 50 70 34]\n",
      "\n",
      "permutation: [19  4  6  3 16  2  1  8 10 18  5  7 17 11 14 12 15  9 13  0]\n",
      "\n"
     ]
    }
   ],
   "source": [
    "print(\"random: {}\\n\".format(np.random.random(20)));\n",
    "\n",
    "print(\"rand: {}\\n\".format(np.random.rand(3, 4)));\n",
    "\n",
    "print(\"randint: {}\\n\".format(np.random.randint(0, 100, 20)));\n",
    "\n",
    "print(\"permutation: {}\\n\".format(np.random.permutation(np.arange(20))));"
   ]
  },
  {
   "cell_type": "markdown",
   "metadata": {
    "_uuid": "ce1a98641bb759f570a741c1bce0fca106eaf508",
    "button": false,
    "new_sheet": false,
    "run_control": {
     "read_only": false
    }
   },
   "source": [
    "## Reference<a id=\"9\"></a>\n",
    "<mark>[Return Contents](#0)\n",
    "<hr>\n",
    "\n",
    "* https://www.kaggle.com/abdullahsahin/numpy-tutorial-for-beginner\n",
    "* https://www.tutorialdocs.com/article/python-numpy-tutorial.html\n",
    "* https://towardsdatascience.com/lets-talk-about-numpy-for-datascience-beginners-b8088722309f\n",
    "* http://www.numpy.org"
   ]
  },
  {
   "cell_type": "code",
   "execution_count": null,
   "metadata": {},
   "outputs": [],
   "source": []
  }
 ],
 "metadata": {
  "kernelspec": {
   "display_name": "Python 3",
   "language": "python",
   "name": "python3"
  },
  "language_info": {
   "codemirror_mode": {
    "name": "ipython",
    "version": 3
   },
   "file_extension": ".py",
   "mimetype": "text/x-python",
   "name": "python",
   "nbconvert_exporter": "python",
   "pygments_lexer": "ipython3",
   "version": "3.8.5"
  }
 },
 "nbformat": 4,
 "nbformat_minor": 1
}
