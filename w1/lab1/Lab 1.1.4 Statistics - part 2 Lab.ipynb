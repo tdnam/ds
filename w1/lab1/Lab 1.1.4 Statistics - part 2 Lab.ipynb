{
 "cells": [
  {
   "cell_type": "markdown",
   "metadata": {
    "colab_type": "text",
    "id": "4M2unyfTx9B1"
   },
   "source": [
    "<div>\n",
    "<img src=https://www.institutedata.com/wp-content/uploads/2019/10/iod_h_tp_primary_c.svg width=\"300\">\n",
    "</div>"
   ]
  },
  {
   "cell_type": "markdown",
   "metadata": {
    "colab_type": "text",
    "id": "RqiJTWNJmxTh"
   },
   "source": [
    "# Statistics - part 2"
   ]
  },
  {
   "cell_type": "code",
   "execution_count": 16,
   "metadata": {
    "colab": {},
    "colab_type": "code",
    "id": "LMexHJ6rmxTh"
   },
   "outputs": [],
   "source": [
    "import numpy as np\n",
    "import matplotlib.pyplot as plt\n",
    "from scipy import stats\n",
    "# get matplot to show charts inline\n",
    "%matplotlib inline\n",
    "\n",
    "plt.style.use('fivethirtyeight')"
   ]
  },
  {
   "cell_type": "markdown",
   "metadata": {
    "colab_type": "text",
    "id": "77Yt7aCRpUKY"
   },
   "source": [
    "# 1. plot a histogram of a set of observations\n",
    "\n",
    "experiment with various number of bins"
   ]
  },
  {
   "cell_type": "code",
   "execution_count": 17,
   "metadata": {
    "colab": {},
    "colab_type": "code",
    "id": "7PY2pBe8mxTk"
   },
   "outputs": [
    {
     "data": {
      "image/png": "[encoded data removed]",
      "text/plain": [
       "<Figure size 432x288 with 1 Axes>"
      ]
     },
     "metadata": {},
     "output_type": "display_data"
    }
   ],
   "source": [
    "# plot a histogram of a set of observations\n",
    "# experiment with various number of bins\n",
    "x = [21,22,23,4,5,6,77,8,9,10,31,32,33,34,35,36,37,18,49,50,100]\n",
    "num_bins = 5\n",
    "n, bins, patches = plt.hist(x, int(num_bins), facecolor='red', alpha=0.5)\n",
    "plt.show()"
   ]
  },
  {
   "cell_type": "markdown",
   "metadata": {
    "colab_type": "text",
    "id": "cRSBy51CpgbC"
   },
   "source": [
    "# 2. Calculate statistical information of a set of observations using numpy and stats\n",
    "```\n",
    "# Expected Output:\n",
    "mean of observations = 28.884615384615383\n",
    "median of observations = 27.0\n",
    "mode of observations = ModeResult(mode=array([10]), count=array([4]))\n",
    "percentile of observations = [10.   27.   35.75]\n",
    "statistical summary of observations = DescribeResult(nobs=26, minmax=(4, 100), mean=28.884615384615383, variance=523.3061538461537, skewness=1.4001632366778733, kurtosis=2.0634808152807826)\n",
    "```"
   ]
  },
  {
   "cell_type": "code",
   "execution_count": 18,
   "metadata": {
    "colab": {},
    "colab_type": "code",
    "id": "odB27dRAmxTn"
   },
   "outputs": [
    {
     "name": "stdout",
     "output_type": "stream",
     "text": [
      "Mean of obs: 28.884615384615383\n",
      "Median of obs: 27.0\n",
      "Mode of obs: ModeResult(mode=array([10]), count=array([4]))\n",
      "Percentileof obs: [10.   27.   35.75]\n",
      "Stats: DescribeResult(nobs=26, minmax=(4, 100), mean=28.884615384615383, variance=523.3061538461537, skewness=1.4001632366778733, kurtosis=2.0634808152807826)\n"
     ]
    }
   ],
   "source": [
    "# calculate statistical information of a set of observations using numpy and stats\n",
    "observations = [21,22,23,4,5,6,77,8,9,10,31,32,33,34,35,36,37,18,49,50,100,10,32,49,10,10]\n",
    "print(f\"Mean of obs: {np.mean(observations)}\")\n",
    "print(f\"Median of obs: {np.median(observations)}\")\n",
    "print(f\"Mode of obs: {stats.mode(observations)}\")\n",
    "print(f\"Percentileof obs: {np.percentile(observations, [25,50, 75])}\")\n",
    "print(f\"Stats: {stats.describe(observations)}\")"
   ]
  },
  {
   "cell_type": "markdown",
   "metadata": {
    "colab_type": "text",
    "id": "AGpwG3Mup0iD"
   },
   "source": [
    "# 3. Plot box chart of obstravations"
   ]
  },
  {
   "cell_type": "code",
   "execution_count": 19,
   "metadata": {
    "colab": {},
    "colab_type": "code",
    "id": "JMIEInnMmxTq"
   },
   "outputs": [
    {
     "data": {
      "image/png": "[encoded data removed]",
      "text/plain": [
       "<Figure size 432x288 with 1 Axes>"
      ]
     },
     "metadata": {},
     "output_type": "display_data"
    }
   ],
   "source": [
    "# plot box chart of obstravations\n",
    "observations = [21,22,23,4,5,6,77,8,9,10,31,32,33,34,35,36,37,18,49,50,100,10,32,49,10,10]\n",
    "plt.boxplot(observations)\n",
    "plt.title('Boxplot')\n",
    "plt.yscale('linear')\n",
    "plt.show()"
   ]
  },
  {
   "cell_type": "markdown",
   "metadata": {
    "colab_type": "text",
    "id": "LcviDI1CqBtM"
   },
   "source": [
    "# 4. Create a Binomial Distribution\n",
    "\n",
    "Lookup stats.binom.pmf\n",
    "\n",
    "What does it do?"
   ]
  },
  {
   "cell_type": "code",
   "execution_count": 20,
   "metadata": {
    "colab": {
     "base_uri": "https://localhost:8080/",
     "height": 367
    },
    "colab_type": "code",
    "executionInfo": {
     "elapsed": 789,
     "status": "ok",
     "timestamp": 1552700227788,
     "user": {
      "displayName": "Ibrahim Faisal",
      "photoUrl": "",
      "userId": "02685917636347920688"
     },
     "user_tz": -660
    },
    "id": "9aQ57ncDJReH",
    "outputId": "986b17b8-e2ff-4d91-f456-0b40c39dea4e"
   },
   "outputs": [
    {
     "name": "stdout",
     "output_type": "stream",
     "text": [
      "Help on method pmf in module scipy.stats._distn_infrastructure:\n",
      "\n",
      "pmf(k, *args, **kwds) method of scipy.stats._discrete_distns.binom_gen instance\n",
      "    Probability mass function at k of the given RV.\n",
      "    \n",
      "    Parameters\n",
      "    ----------\n",
      "    k : array_like\n",
      "        Quantiles.\n",
      "    arg1, arg2, arg3,... : array_like\n",
      "        The shape parameter(s) for the distribution (see docstring of the\n",
      "        instance object for more information)\n",
      "    loc : array_like, optional\n",
      "        Location parameter (default=0).\n",
      "    \n",
      "    Returns\n",
      "    -------\n",
      "    pmf : array_like\n",
      "        Probability mass function evaluated at k\n",
      "\n"
     ]
    }
   ],
   "source": [
    "help(stats.binom.pmf)"
   ]
  },
  {
   "cell_type": "code",
   "execution_count": 21,
   "metadata": {
    "colab": {
     "base_uri": "https://localhost:8080/",
     "height": 352
    },
    "colab_type": "code",
    "executionInfo": {
     "elapsed": 1446,
     "status": "ok",
     "timestamp": 1552703611710,
     "user": {
      "displayName": "Ibrahim Faisal",
      "photoUrl": "",
      "userId": "02685917636347920688"
     },
     "user_tz": -660
    },
    "id": "_vJoZMf2mxTs",
    "outputId": "0e05757d-5262-4151-8a3a-8ab401031fdf"
   },
   "outputs": [
    {
     "name": "stdout",
     "output_type": "stream",
     "text": [
      "[ 0  1  2  3  4  5  6  7  8  9 10 11 12 13 14 15 16 17 18 19]\n",
      "[0.00097656 0.00976563 0.04394531 0.1171875  0.20507813 0.24609375\n",
      " 0.20507813 0.1171875  0.04394531 0.00976563 0.00097656 0.\n",
      " 0.         0.         0.         0.         0.         0.\n",
      " 0.         0.        ]\n"
     ]
    },
    {
     "data": {
      "image/png": "[encoded data removed]",
      "text/plain": [
       "<Figure size 432x288 with 1 Axes>"
      ]
     },
     "metadata": {},
     "output_type": "display_data"
    }
   ],
   "source": [
    "# creating a Binomial Distribution\n",
    "n = 10\n",
    "p = 0.5\n",
    "k = np.arange(0,20)\n",
    "\n",
    "print(k)\n",
    "\n",
    "binomial = stats.binom.pmf(k, n, p)\n",
    "\n",
    "print(binomial)\n",
    "\n",
    "plt.plot(binomial);"
   ]
  },
  {
   "cell_type": "markdown",
   "metadata": {
    "colab_type": "text",
    "id": "HlhkB_IcqU4U"
   },
   "source": [
    "# 5. Create a scatter plot"
   ]
  },
  {
   "cell_type": "code",
   "execution_count": 22,
   "metadata": {
    "colab": {},
    "colab_type": "code",
    "id": "-qx81cWXmxTu"
   },
   "outputs": [
    {
     "data": {
      "text/plain": [
       "<matplotlib.collections.PathCollection at 0x124e784f0>"
      ]
     },
     "execution_count": 22,
     "metadata": {},
     "output_type": "execute_result"
    },
    {
     "data": {
      "image/png": "[encoded data removed]",
      "text/plain": [
       "<Figure size 432x288 with 1 Axes>"
      ]
     },
     "metadata": {},
     "output_type": "display_data"
    }
   ],
   "source": [
    "import numpy as np\n",
    "import matplotlib.pyplot as plt\n",
    "\n",
    "# Fixing random state for reproducibility\n",
    "np.random.seed(43)\n",
    "\n",
    "\n",
    "N = 50\n",
    "x = np.random.rand(N)\n",
    "y = np.random.rand(N)\n",
    "colors = np.random.rand(N)\n",
    "area = (30 * np.random.rand(N))**2  # 0 to 15 point radii\n",
    "plt.scatter(x,y,s=area,c=colors,alpha=0.5)"
   ]
  },
  {
   "cell_type": "markdown",
   "metadata": {
    "colab_type": "text",
    "id": "_KQAJyqIqheV"
   },
   "source": [
    "# 6. Calculate and Visualize Correlations\n",
    "\n",
    "NOTE: Lookup np.corrcoef. What does it do?"
   ]
  },
  {
   "cell_type": "code",
   "execution_count": 23,
   "metadata": {
    "colab": {},
    "colab_type": "code",
    "id": "5K4lfLpTmxTw"
   },
   "outputs": [
    {
     "data": {
      "text/plain": [
       "<matplotlib.collections.PathCollection at 0x124f7a310>"
      ]
     },
     "execution_count": 23,
     "metadata": {},
     "output_type": "execute_result"
    },
    {
     "data": {
      "image/png": "[encoded data removed]",
      "text/plain": [
       "<Figure size 432x288 with 1 Axes>"
      ]
     },
     "metadata": {},
     "output_type": "display_data"
    }
   ],
   "source": [
    "# Calculate and visualise correltions\n",
    "import matplotlib\n",
    "np.random.seed(1)\n",
    "\n",
    "# 1000 random integers between 0 and 50\n",
    "x = np.random.randint(0, 50, 1000)\n",
    "\n",
    "# Positive Correlation with some noise\n",
    "y = x + np.random.normal(0, 10, 1000)\n",
    "\n",
    "plt.scatter(x,y)"
   ]
  },
  {
   "cell_type": "code",
   "execution_count": 24,
   "metadata": {
    "colab": {
     "base_uri": "https://localhost:8080/",
     "height": 34
    },
    "colab_type": "code",
    "executionInfo": {
     "elapsed": 744,
     "status": "ok",
     "timestamp": 1552692286593,
     "user": {
      "displayName": "Ibrahim Faisal",
      "photoUrl": "",
      "userId": "02685917636347920688"
     },
     "user_tz": -660
    },
    "id": "5EPfgBdDmxTz",
    "outputId": "11f783b4-0a0f-4904-9bc2-b1a6d6e5e56e"
   },
   "outputs": [
    {
     "name": "stdout",
     "output_type": "stream",
     "text": [
      "[ 0.11163049 29.5832885 ]\n"
     ]
    }
   ],
   "source": [
    "# Calculate the coefficient of best fit line or curve\n",
    "x = [21,22,23,4,5,6,77,8,9,10,31,32,33,34,35,36,37,18,49,50,100,10,32,49,10,10]\n",
    "y = [88,12,23,3,6,8,9,12,27,36,34,77,60,35,36,37,18,49,50,100,10,32,49,10,10,22]\n",
    "\n",
    "print(np.polyfit(x,y,1))"
   ]
  },
  {
   "cell_type": "markdown",
   "metadata": {
    "colab_type": "text",
    "id": "c6f0e9yXra37"
   },
   "source": [
    "# 7. [BONUS] Plot X, Y and Best Fit Line\n",
    "\n",
    "**Write a function to calculate best fit.**\n",
    "\n",
    "![alt text](https://i.imgur.com/B43vOV0.jpg)[1]\n",
    "\n",
    "[1]: https://www.mathsisfun.com/data/least-squares-regression.html \"Least Squares Regression\""
   ]
  },
  {
   "cell_type": "code",
   "execution_count": 25,
   "metadata": {
    "colab": {},
    "colab_type": "code",
    "id": "-jouTQjemxT1"
   },
   "outputs": [
    {
     "name": "stdout",
     "output_type": "stream",
     "text": [
      "m = 0.92\n",
      "b = 0.8\n"
     ]
    },
    {
     "data": {
      "image/png": "[encoded data removed]",
      "text/plain": [
       "<Figure size 432x288 with 1 Axes>"
      ]
     },
     "metadata": {},
     "output_type": "display_data"
    }
   ],
   "source": [
    "# sample points \n",
    "X = [0, 5, 10, 15, 20]\n",
    "Y = [0, 7, 10, 13, 20]\n",
    "\n",
    "# solve for a and b\n",
    "def best_fit(X, Y):\n",
    "    '''\n",
    "    Return m, b\n",
    "    '''\n",
    "    \n",
    "    N = len(X)\n",
    "    \n",
    "    x_squared = np.square(X)\n",
    "    sum_x_squared =  np.sum(x_squared)\n",
    "    \n",
    "    sum_x = np.sum(X)\n",
    "    sum_y = np.sum(Y)\n",
    "    \n",
    "    sum_x_y = np.sum(np.multiply(X, Y))\n",
    "    \n",
    "    m = (N*sum_x_y - np.multiply(sum_x, sum_y)) / (N*sum_x_squared - sum_x*sum_x)\n",
    "    \n",
    "    b = (sum_y - m*sum_x)/N\n",
    "    \n",
    "    return m, b\n",
    "\n",
    "# solution\n",
    "m, b = best_fit(X, Y)\n",
    "print(f\"m = {m}\")\n",
    "print(f\"b = {b}\")\n",
    "\n",
    "#best fit line:\n",
    "#y = 0.80 + 0.92x\n",
    "\n",
    "# plot points and fit line\n",
    "y = b + np.multiply(m,X)\n",
    "\n",
    "_ = plt.plot(X, y, color='red')"
   ]
  },
  {
   "cell_type": "markdown",
   "metadata": {
    "colab_type": "text",
    "id": "HfL9jnC4txJH"
   },
   "source": [
    "# 8. plot a histogram of a set of observations - centered\n",
    "\n",
    "Experiment with various number of bins\n",
    "\n",
    "        y = x - np.mean(x)"
   ]
  },
  {
   "cell_type": "code",
   "execution_count": 26,
   "metadata": {
    "colab": {},
    "colab_type": "code",
    "id": "bw-YGxBEmxT5"
   },
   "outputs": [],
   "source": [
    "# plot a histogram of a set of observations - centered\n",
    "# experiment with various number of bins\n",
    "x = [21,22,23,4,5,6,77,8,9,10,31,32,33,34,35,36,37,18,49,50,100]"
   ]
  },
  {
   "cell_type": "code",
   "execution_count": 27,
   "metadata": {},
   "outputs": [
    {
     "data": {
      "text/plain": [
       "(array([6., 4., 2., 5., 2., 0., 0., 1., 0., 1.]),\n",
       " array([-26.47619048, -16.87619048,  -7.27619048,   2.32380952,\n",
       "         11.92380952,  21.52380952,  31.12380952,  40.72380952,\n",
       "         50.32380952,  59.92380952,  69.52380952]),\n",
       " <BarContainer object of 10 artists>)"
      ]
     },
     "execution_count": 27,
     "metadata": {},
     "output_type": "execute_result"
    },
    {
     "data": {
      "image/png": "[encoded data removed]",
      "text/plain": [
       "<Figure size 432x288 with 1 Axes>"
      ]
     },
     "metadata": {},
     "output_type": "display_data"
    }
   ],
   "source": [
    "plt.hist(x - np.mean(x))"
   ]
  },
  {
   "cell_type": "markdown",
   "metadata": {
    "colab_type": "text",
    "id": "IvLbO4hot_oK"
   },
   "source": [
    "# 9. plot a histogram of a set of observations - scaled\n",
    "\n",
    "        y = x / np.std(x)"
   ]
  },
  {
   "cell_type": "code",
   "execution_count": 28,
   "metadata": {
    "colab": {},
    "colab_type": "code",
    "id": "rKkxbfpGmxT7"
   },
   "outputs": [
    {
     "data": {
      "text/plain": [
       "(array([6., 4., 2., 5., 2., 0., 0., 1., 0., 1.]),\n",
       " array([0.17059574, 0.58002553, 0.98945531, 1.3988851 , 1.80831488,\n",
       "        2.21774467, 2.62717446, 3.03660424, 3.44603403, 3.85546381,\n",
       "        4.2648936 ]),\n",
       " <BarContainer object of 10 artists>)"
      ]
     },
     "execution_count": 28,
     "metadata": {},
     "output_type": "execute_result"
    },
    {
     "data": {
      "image/png": "[encoded data removed]",
      "text/plain": [
       "<Figure size 432x288 with 1 Axes>"
      ]
     },
     "metadata": {},
     "output_type": "display_data"
    }
   ],
   "source": [
    "# plot a histogram of a set of observations - scaled\n",
    "# experiment with various number of bins\n",
    "x = [21,22,23,4,5,6,77,8,9,10,31,32,33,34,35,36,37,18,49,50,100]\n",
    "plt.hist(x / np.std(x))"
   ]
  },
  {
   "cell_type": "markdown",
   "metadata": {
    "colab_type": "text",
    "id": "WhM8Zio5uQ65"
   },
   "source": [
    "# 10. [BONUS] Create a probplot against normal distribution\n",
    "\n",
    "Check following methods:\n",
    "\n",
    "1. stats.loggamma.rvs\n",
    "2. stats.probplot\n",
    "3. stats.norm\n",
    "4. stats.boxcox"
   ]
  },
  {
   "cell_type": "code",
   "execution_count": 29,
   "metadata": {
    "colab": {
     "base_uri": "https://localhost:8080/",
     "height": 151
    },
    "colab_type": "code",
    "executionInfo": {
     "elapsed": 723,
     "status": "ok",
     "timestamp": 1552693315169,
     "user": {
      "displayName": "Ibrahim Faisal",
      "photoUrl": "",
      "userId": "02685917636347920688"
     },
     "user_tz": -660
    },
    "id": "2X4WJFBxmxT_",
    "outputId": "8c130b45-aba0-488e-e643-44b4f6d11577"
   },
   "outputs": [
    {
     "data": {
      "image/png": "[encoded data removed]",
      "text/plain": [
       "<Figure size 432x288 with 1 Axes>"
      ]
     },
     "metadata": {},
     "output_type": "display_data"
    }
   ],
   "source": [
    "from scipy import stats\n",
    "import matplotlib.pyplot as plt\n",
    "fig = plt.figure()\n",
    "ax1 = fig.add_subplot(211)\n",
    "x = stats.loggamma.rvs(5, size=500) + 5"
   ]
  },
  {
   "cell_type": "markdown",
   "metadata": {
    "colab_type": "text",
    "id": "2X66iINLvAun"
   },
   "source": [
    "# 11. [BONUS] Calculate Mean Confidence Interval\n",
    "\n",
    "Check following methods:\n",
    "\n",
    "1. scipy.stats.sem\n",
    "2. scipy.stats.t.ppf"
   ]
  },
  {
   "cell_type": "code",
   "execution_count": 43,
   "metadata": {
    "colab": {
     "base_uri": "https://localhost:8080/",
     "height": 34
    },
    "colab_type": "code",
    "executionInfo": {
     "elapsed": 727,
     "status": "ok",
     "timestamp": 1552693467297,
     "user": {
      "displayName": "Ibrahim Faisal",
      "photoUrl": "",
      "userId": "02685917636347920688"
     },
     "user_tz": -660
    },
    "id": "RbRSVOnlmxUC",
    "outputId": "6cca7647-c0cb-4ba6-fc35-8596a2d40591"
   },
   "outputs": [
    {
     "name": "stdout",
     "output_type": "stream",
     "text": [
      "5.242963106061236\n",
      "(30.476190476190474, 19.539561081583383, 41.41281987079756)\n"
     ]
    }
   ],
   "source": [
    "import numpy as np\n",
    "import scipy.stats\n",
    "\n",
    "# Example: https://www.kite.com/python/examples/702/scipy-compute-a-confidence-interval-from-a-dataset\n",
    "# from scipy.stats import sem, t\n",
    "# from scipy import mean\n",
    "# confidence = 0.95\n",
    "# data = [1, 2, 3, 4, 5]\n",
    "\n",
    "# n = len(data)\n",
    "# m = mean(data)\n",
    "# std_err = sem(data)\n",
    "# h = std_err * t.ppf((1 + confidence) / 2, n - 1)\n",
    "\n",
    "# start = m - h\n",
    "# print start\n",
    "# OUTPUT\n",
    "# 1.03675683852\n",
    "# end = m + h\n",
    "# print end\n",
    "# 4.96324316148\n",
    "\n",
    "def mean_confidence_interval(data, confidence=0.95):\n",
    "    # Calculate m, h\n",
    "    \n",
    "    m, se = np.mean(data), stats.sem(data)\n",
    "    print(se)\n",
    "    h = se * scipy.stats.t.ppf((1 + confidence) / 2., len(data)-1)\n",
    "    \n",
    "    #     m, se = 0, 0\n",
    "    #     h = 0\n",
    "    return m, m-h, m+h\n",
    "\n",
    "data = [21,22,23,4,5,6,77,8,9,10,31,32,33,34,35,36,37,18,49,50,100]\n",
    "print(mean_confidence_interval(data))"
   ]
  },
  {
   "cell_type": "markdown",
   "metadata": {
    "colab_type": "text",
    "id": "6r9IVMcopfhs"
   },
   "source": [
    "\n",
    "\n",
    "---\n",
    "\n",
    "\n",
    "\n",
    "---\n",
    "\n",
    "\n",
    "\n",
    "> > > > > > > > > © 2019 Institute of Data\n",
    "\n",
    "\n",
    "---\n",
    "\n",
    "\n",
    "\n",
    "---\n",
    "\n",
    "\n",
    "\n"
   ]
  },
  {
   "cell_type": "code",
   "execution_count": null,
   "metadata": {},
   "outputs": [],
   "source": []
  }
 ],
 "metadata": {
  "colab": {
   "collapsed_sections": [],
   "name": "Lab 1.1.4 Statistics - part 2 Lab.ipynb",
   "provenance": [
    {
     "file_id": "https://github.com/ikfaisal/dsia/blob/master/Statistics_part_2.ipynb",
     "timestamp": 1552461263669
    }
   ]
  },
  "kernelspec": {
   "display_name": "Python 3",
   "language": "python",
   "name": "python3"
  },
  "language_info": {
   "codemirror_mode": {
    "name": "ipython",
    "version": 3
   },
   "file_extension": ".py",
   "mimetype": "text/x-python",
   "name": "python",
   "nbconvert_exporter": "python",
   "pygments_lexer": "ipython3",
   "version": "3.8.5"
  }
 },
 "nbformat": 4,
 "nbformat_minor": 4
}
